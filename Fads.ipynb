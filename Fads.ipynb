{
  "nbformat": 4,
  "nbformat_minor": 0,
  "metadata": {
    "colab": {
      "name": "Fads.ipynb",
      "provenance": [],
      "include_colab_link": true
    },
    "kernelspec": {
      "name": "python3",
      "display_name": "Python 3"
    },
    "language_info": {
      "name": "python"
    }
  },
  "cells": [
    {
      "cell_type": "markdown",
      "metadata": {
        "id": "view-in-github",
        "colab_type": "text"
      },
      "source": [
        "<a href=\"https://colab.research.google.com/github/sharansumbad/Sharan/blob/master/Fads.ipynb\" target=\"_parent\"><img src=\"https://colab.research.google.com/assets/colab-badge.svg\" alt=\"Open In Colab\"/></a>"
      ]
    },
    {
      "cell_type": "code",
      "metadata": {
        "id": "UuWHstPLx1U-"
      },
      "source": [
        "import numpy as np\n",
        "import matplotlib.pyplot as plt\n",
        "import random as rd"
      ],
      "execution_count": null,
      "outputs": []
    },
    {
      "cell_type": "code",
      "metadata": {
        "id": "4RMpgPqdx4NN"
      },
      "source": [
        "e = np.random.rand(100,5)\n",
        "w = np.random.rand(100,5)\n",
        "\n",
        "np.random.seed(555) "
      ],
      "execution_count": 68,
      "outputs": []
    },
    {
      "cell_type": "code",
      "metadata": {
        "colab": {
          "base_uri": "https://localhost:8080/"
        },
        "id": "6_xxYY9zqczA",
        "outputId": "809eaf7f-0fa5-403c-82de-3adba279c26d"
      },
      "source": [
        "w"
      ],
      "execution_count": null,
      "outputs": [
        {
          "output_type": "execute_result",
          "data": {
            "text/plain": [
              "array([[0.16586954, 0.05461617, 0.16787203, 0.84582489, 0.17433399],\n",
              "       [0.25235465, 0.65303669, 0.14774269, 0.64697613, 0.4530826 ],\n",
              "       [0.79182198, 0.93145943, 0.06626115, 0.62587443, 0.98405938],\n",
              "       [0.17427328, 0.97028102, 0.61761517, 0.84400653, 0.66759929],\n",
              "       [0.00920822, 0.50399868, 0.95225077, 0.81707702, 0.30894687],\n",
              "       [0.04830069, 0.45922706, 0.44730753, 0.74782757, 0.15082235],\n",
              "       [0.4715478 , 0.85859437, 0.29379575, 0.01745706, 0.7935957 ],\n",
              "       [0.04234876, 0.35867198, 0.56246902, 0.41497662, 0.49215697],\n",
              "       [0.25080692, 0.86608602, 0.99788182, 0.75210644, 0.6985665 ],\n",
              "       [0.44217149, 0.30380327, 0.88563492, 0.72749893, 0.27833405],\n",
              "       [0.17779718, 0.54425526, 0.9724096 , 0.71646464, 0.59846907],\n",
              "       [0.66362008, 0.06060816, 0.78128827, 0.80020761, 0.00546686],\n",
              "       [0.69745266, 0.92394759, 0.28724526, 0.61418834, 0.90802387],\n",
              "       [0.90022275, 0.05446171, 0.85204135, 0.98831369, 0.75461559],\n",
              "       [0.91444681, 0.14688416, 0.89259192, 0.41304218, 0.10224005],\n",
              "       [0.34131665, 0.14265835, 0.76550199, 0.81378659, 0.78356851],\n",
              "       [0.20001274, 0.45462321, 0.5580805 , 0.07510379, 0.7845229 ],\n",
              "       [0.86705362, 0.48787984, 0.3560863 , 0.96506812, 0.18721803],\n",
              "       [0.68167128, 0.07891896, 0.37965697, 0.13894596, 0.15492899],\n",
              "       [0.1295934 , 0.00498434, 0.93467581, 0.07994331, 0.74792968],\n",
              "       [0.52343587, 0.77034451, 0.51043209, 0.63493454, 0.99942057],\n",
              "       [0.81837737, 0.86383227, 0.34543859, 0.46094263, 0.96759281],\n",
              "       [0.13565668, 0.62034572, 0.62880858, 0.43495684, 0.86580713],\n",
              "       [0.88771423, 0.08883137, 0.88769213, 0.81404398, 0.00426413],\n",
              "       [0.65807654, 0.12117854, 0.7968997 , 0.09697526, 0.68023519],\n",
              "       [0.46689535, 0.91476314, 0.13403872, 0.91042883, 0.9076782 ],\n",
              "       [0.96904161, 0.03275066, 0.94987853, 0.00627751, 0.06560832],\n",
              "       [0.33405075, 0.42910638, 0.38892461, 0.14173452, 0.433902  ],\n",
              "       [0.77204492, 0.3757469 , 0.41128866, 0.35961877, 0.4562272 ],\n",
              "       [0.4221448 , 0.59033015, 0.54327938, 0.91804452, 0.31906177],\n",
              "       [0.11825872, 0.25998084, 0.55735928, 0.52484965, 0.55285909],\n",
              "       [0.64923768, 0.07580367, 0.71053764, 0.5628817 , 0.91984588],\n",
              "       [0.37477581, 0.30229552, 0.39244673, 0.61307629, 0.96300322],\n",
              "       [0.48111374, 0.31427458, 0.83601825, 0.27464905, 0.6878709 ],\n",
              "       [0.82825521, 0.76428744, 0.67403166, 0.58436675, 0.78628065],\n",
              "       [0.5869565 , 0.87792059, 0.10846622, 0.69972933, 0.37570592],\n",
              "       [0.49560927, 0.6408239 , 0.77569515, 0.37147828, 0.50079951],\n",
              "       [0.97752521, 0.88109523, 0.10210673, 0.91094635, 0.62705662],\n",
              "       [0.22709144, 0.9626743 , 0.50893161, 0.32840403, 0.75569243],\n",
              "       [0.41105555, 0.57479463, 0.87237898, 0.62252716, 0.99704284],\n",
              "       [0.16008835, 0.69131016, 0.37502018, 0.43604029, 0.31065227],\n",
              "       [0.6556736 , 0.29933419, 0.80345114, 0.44331356, 0.8567925 ],\n",
              "       [0.01353039, 0.84071191, 0.33967716, 0.4141277 , 0.36764718],\n",
              "       [0.73813683, 0.39300777, 0.52934318, 0.73215677, 0.61954896],\n",
              "       [0.30697922, 0.10979444, 0.29043413, 0.08925853, 0.48529922],\n",
              "       [0.25838503, 0.28116557, 0.00236417, 0.28131961, 0.10815823],\n",
              "       [0.07230965, 0.85099014, 0.24273305, 0.91812754, 0.58223071],\n",
              "       [0.81094478, 0.29940408, 0.13762385, 0.98781689, 0.08546299],\n",
              "       [0.09306468, 0.1484945 , 0.19979959, 0.45963892, 0.11610034],\n",
              "       [0.55181348, 0.64569938, 0.63440388, 0.1278445 , 0.00458022],\n",
              "       [0.24829275, 0.02212436, 0.66718022, 0.50468813, 0.89691861],\n",
              "       [0.4652311 , 0.19927508, 0.34656726, 0.11168898, 0.04962435],\n",
              "       [0.77859064, 0.60233109, 0.78793128, 0.33985496, 0.16011216],\n",
              "       [0.7608804 , 0.5384433 , 0.95349408, 0.17680729, 0.40569358],\n",
              "       [0.60377801, 0.49589665, 0.74192945, 0.71255768, 0.14322545],\n",
              "       [0.37264335, 0.56468773, 0.95896759, 0.15506175, 0.05351755],\n",
              "       [0.87926495, 0.05784738, 0.57366154, 0.5081549 , 0.32386823],\n",
              "       [0.7111859 , 0.60850752, 0.8771396 , 0.5752991 , 0.22711474],\n",
              "       [0.33403111, 0.04933574, 0.6785051 , 0.05695301, 0.77690452],\n",
              "       [0.14076193, 0.25002392, 0.07808482, 0.1557765 , 0.27845352],\n",
              "       [0.16751083, 0.50133288, 0.40390456, 0.55661102, 0.58311909],\n",
              "       [0.16677159, 0.12785253, 0.0490259 , 0.39236624, 0.88752158],\n",
              "       [0.97124157, 0.15674946, 0.98457021, 0.00936035, 0.15534915],\n",
              "       [0.06715903, 0.98079585, 0.41154921, 0.35030641, 0.07812333],\n",
              "       [0.05240116, 0.94651518, 0.51824684, 0.03610268, 0.42006616],\n",
              "       [0.54571239, 0.70396942, 0.88619638, 0.74851671, 0.57587406],\n",
              "       [0.58720182, 0.03174984, 0.40643534, 0.92707751, 0.71976069],\n",
              "       [0.56994953, 0.74776089, 0.135672  , 0.81872532, 0.90194839],\n",
              "       [0.72459235, 0.85705374, 0.52271967, 0.08847274, 0.39167275],\n",
              "       [0.35546607, 0.03209279, 0.09355746, 0.95385614, 0.84656489],\n",
              "       [0.63524398, 0.28964272, 0.96558107, 0.17852456, 0.68173923],\n",
              "       [0.13944749, 0.26235977, 0.76400898, 0.2369106 , 0.70111157],\n",
              "       [0.83026706, 0.88494502, 0.34379523, 0.79780143, 0.97545916],\n",
              "       [0.69148255, 0.59470946, 0.38366499, 0.24918382, 0.64565701],\n",
              "       [0.00142542, 0.44034885, 0.08629804, 0.1260867 , 0.07784106],\n",
              "       [0.43930189, 0.10720425, 0.57922491, 0.33660184, 0.32810459],\n",
              "       [0.95335529, 0.7258422 , 0.72802733, 0.31781883, 0.94193485],\n",
              "       [0.00561083, 0.4302275 , 0.24754553, 0.1598047 , 0.21389571],\n",
              "       [0.35434737, 0.66836849, 0.13659963, 0.0634644 , 0.47390391],\n",
              "       [0.79486035, 0.87821165, 0.85893921, 0.37435817, 0.86259544],\n",
              "       [0.5054092 , 0.33044927, 0.30071262, 0.27419452, 0.6950465 ],\n",
              "       [0.02642998, 0.47461929, 0.7822707 , 0.52295531, 0.66050768],\n",
              "       [0.12100833, 0.43258298, 0.28555154, 0.09365844, 0.66213202],\n",
              "       [0.54383609, 0.7957704 , 0.17685556, 0.15385682, 0.43459618],\n",
              "       [0.46099396, 0.39993897, 0.82203593, 0.15774474, 0.99785926],\n",
              "       [0.51328936, 0.19431412, 0.75208206, 0.34669082, 0.32798311],\n",
              "       [0.52752585, 0.69333779, 0.37116349, 0.46409975, 0.84449565],\n",
              "       [0.77094899, 0.75651499, 0.20057156, 0.2138677 , 0.64679028],\n",
              "       [0.10166253, 0.35776448, 0.65793854, 0.04044061, 0.38037269],\n",
              "       [0.96562474, 0.11757305, 0.08657117, 0.95498774, 0.27217058],\n",
              "       [0.53987118, 0.63902675, 0.09845838, 0.92322419, 0.6861858 ],\n",
              "       [0.2551561 , 0.43419673, 0.94162848, 0.62722384, 0.3761697 ],\n",
              "       [0.69590287, 0.056931  , 0.45224717, 0.40169294, 0.93559197],\n",
              "       [0.21698527, 0.75045125, 0.83854333, 0.73841147, 0.13995897],\n",
              "       [0.50933082, 0.04159245, 0.27861596, 0.07660113, 0.26104422],\n",
              "       [0.50593165, 0.04995412, 0.16242926, 0.79374127, 0.78687372],\n",
              "       [0.52540914, 0.44398365, 0.15143361, 0.43401479, 0.44594856],\n",
              "       [0.76179581, 0.28657074, 0.48447544, 0.10609805, 0.68654023],\n",
              "       [0.80831114, 0.21398923, 0.08950083, 0.14274933, 0.38607278],\n",
              "       [0.57632135, 0.82018076, 0.62745004, 0.37176179, 0.56792996]])"
            ]
          },
          "metadata": {
            "tags": []
          },
          "execution_count": 48
        }
      ]
    },
    {
      "cell_type": "code",
      "metadata": {
        "id": "-KhWVdSXEhxG"
      },
      "source": [
        "x_bar = w + e"
      ],
      "execution_count": null,
      "outputs": []
    },
    {
      "cell_type": "code",
      "metadata": {
        "id": "FSNslONQEo2Z"
      },
      "source": [
        "average = (sum(x_bar))*0.01"
      ],
      "execution_count": null,
      "outputs": []
    },
    {
      "cell_type": "code",
      "metadata": {
        "colab": {
          "base_uri": "https://localhost:8080/"
        },
        "id": "g5GpwLPYjjpx",
        "outputId": "9b6b90c6-f4fd-42b5-a0af-4bf00863b289"
      },
      "source": [
        "average"
      ],
      "execution_count": null,
      "outputs": [
        {
          "output_type": "execute_result",
          "data": {
            "text/plain": [
              "array([0.94092203, 0.96775036, 1.02918584, 0.96124624, 0.99883519])"
            ]
          },
          "metadata": {
            "tags": []
          },
          "execution_count": 45
        }
      ]
    },
    {
      "cell_type": "code",
      "metadata": {
        "colab": {
          "base_uri": "https://localhost:8080/"
        },
        "id": "0fXxFNVJkAA4",
        "outputId": "9df3705d-16f6-485b-fd76-8d028212b2f0"
      },
      "source": [
        "sum(e)"
      ],
      "execution_count": null,
      "outputs": [
        {
          "output_type": "execute_result",
          "data": {
            "text/plain": [
              "array([46.79231578, 50.84899954, 51.58111219, 50.06261586, 47.48066563])"
            ]
          },
          "metadata": {
            "tags": []
          },
          "execution_count": 46
        }
      ]
    },
    {
      "cell_type": "code",
      "metadata": {
        "id": "iPQ_zUYnkAJK"
      },
      "source": [
        ""
      ],
      "execution_count": null,
      "outputs": []
    },
    {
      "cell_type": "code",
      "metadata": {
        "id": "0SO9oCkoGGtO"
      },
      "source": [
        "L =np.random.normal(1.0, 0.005, 100)"
      ],
      "execution_count": null,
      "outputs": []
    },
    {
      "cell_type": "code",
      "metadata": {
        "colab": {
          "base_uri": "https://localhost:8080/"
        },
        "id": "9VEexRr9GHc6",
        "outputId": "d8a4e862-6b83-4f20-e215-2befc06b226a"
      },
      "source": [
        "L"
      ],
      "execution_count": null,
      "outputs": [
        {
          "output_type": "execute_result",
          "data": {
            "text/plain": [
              "array([1.00074114, 1.00176743, 0.99456375, 1.00123548, 0.9992158 ,\n",
              "       1.00218543, 0.99576889, 1.01083273, 1.00167141, 0.99811062,\n",
              "       1.00298194, 1.01026678, 0.99979989, 0.9971159 , 0.99969532,\n",
              "       1.00498889, 1.00887522, 0.99331063, 1.00399155, 0.99118546,\n",
              "       0.99867648, 0.99971488, 0.99032758, 0.99252365, 1.00022734,\n",
              "       1.01163447, 1.00235508, 0.9952323 , 0.99914258, 0.99905253,\n",
              "       0.99958965, 0.99972285, 1.00667613, 0.99867327, 1.00789312,\n",
              "       1.00555862, 0.99988435, 1.00391744, 0.99439767, 1.00245826,\n",
              "       0.99828245, 0.99197587, 0.9998416 , 1.00231792, 1.00678522,\n",
              "       0.99780548, 0.99367258, 0.99709547, 0.99446654, 0.99502716,\n",
              "       1.00223289, 0.99675908, 0.99688504, 1.00536203, 0.99721313,\n",
              "       0.9947635 , 0.99686333, 0.99936032, 1.00594487, 1.00072673,\n",
              "       0.99731485, 1.003365  , 0.98895885, 1.00110519, 1.00362436,\n",
              "       1.0023953 , 0.99548262, 0.99890431, 1.00257996, 1.00748297,\n",
              "       1.00443552, 1.00102799, 0.99466187, 1.00133433, 0.996883  ,\n",
              "       1.00093903, 1.00432647, 1.00128804, 1.00262366, 1.00158047,\n",
              "       0.99429345, 1.00670739, 0.99504003, 1.00501656, 0.99575718,\n",
              "       1.00279141, 1.00504287, 0.9955367 , 1.00023343, 1.00517173,\n",
              "       1.00412486, 0.99540787, 0.99220031, 0.99436017, 1.00310306,\n",
              "       0.99936673, 1.00056716, 0.99687158, 0.99759154, 1.0059347 ])"
            ]
          },
          "metadata": {
            "tags": []
          },
          "execution_count": 50
        }
      ]
    },
    {
      "cell_type": "code",
      "metadata": {
        "id": "C0JAynWzGje4"
      },
      "source": [
        "\n"
      ],
      "execution_count": null,
      "outputs": []
    },
    {
      "cell_type": "code",
      "metadata": {
        "id": "MaMVJEw4IW_P"
      },
      "source": [
        "def uniformrandom(n):  \n",
        "    i=0\n",
        "    random_list=[]*n\n",
        "    for i in range(n):  \n",
        "        random_list+=[rd.gauss(1, 0.005)]\n",
        "    return random_list"
      ],
      "execution_count": null,
      "outputs": []
    },
    {
      "cell_type": "code",
      "metadata": {
        "id": "DP-rBOiJKoB3",
        "colab": {
          "base_uri": "https://localhost:8080/"
        },
        "outputId": "16ec6c34-2be0-4bc8-d8e1-fd511ca439a5"
      },
      "source": [
        "J = uniformrandom(100)\n",
        "J"
      ],
      "execution_count": 67,
      "outputs": [
        {
          "output_type": "execute_result",
          "data": {
            "text/plain": [
              "[0.9956864772248145,\n",
              " 0.9932488683324884,\n",
              " 0.9992946878734603,\n",
              " 0.9927364815078925,\n",
              " 1.0006276021658456,\n",
              " 0.998222771317868,\n",
              " 1.0013853337149807,\n",
              " 0.999217426489313,\n",
              " 1.0004758189155103,\n",
              " 1.0011833425189842,\n",
              " 1.0017649735685894,\n",
              " 0.9995575195475579,\n",
              " 1.010965591250373,\n",
              " 0.9964026876991702,\n",
              " 0.996319925805264,\n",
              " 0.9991053871797999,\n",
              " 0.9993326938505844,\n",
              " 1.0018384615402502,\n",
              " 0.9980431800650958,\n",
              " 0.9999119175919524,\n",
              " 0.993779422315,\n",
              " 1.000575544316782,\n",
              " 0.9983000547109501,\n",
              " 1.0049063508029865,\n",
              " 1.007493653067761,\n",
              " 1.0098452761514538,\n",
              " 0.9963009870957272,\n",
              " 1.0042417816797231,\n",
              " 0.9986155081592485,\n",
              " 1.011418886113137,\n",
              " 0.9933813362102867,\n",
              " 1.0033609881667278,\n",
              " 0.9955981952619011,\n",
              " 0.9964487593723814,\n",
              " 0.9965806186445821,\n",
              " 1.0025227560596937,\n",
              " 0.9989555544296799,\n",
              " 1.0001437546616723,\n",
              " 0.996153912768966,\n",
              " 0.9999056741141867,\n",
              " 0.9967607402703509,\n",
              " 1.002365591803923,\n",
              " 1.001665885352072,\n",
              " 1.0004426784098288,\n",
              " 1.004764178707006,\n",
              " 1.0039264238046703,\n",
              " 1.0019540145797883,\n",
              " 0.9961766796354757,\n",
              " 0.9928928852537617,\n",
              " 1.0049789732773362,\n",
              " 0.9998833958273937,\n",
              " 1.0012578590581618,\n",
              " 1.0042309666773226,\n",
              " 0.9962693082129539,\n",
              " 0.995915930233685,\n",
              " 1.0061208059327507,\n",
              " 1.0016569901964258,\n",
              " 1.0017511909745511,\n",
              " 0.9945657182933468,\n",
              " 0.9997501542810554,\n",
              " 0.9995149755381636,\n",
              " 1.0016458488744018,\n",
              " 1.0013987232725405,\n",
              " 0.9930917287373701,\n",
              " 1.0109749530026693,\n",
              " 0.9949512786098358,\n",
              " 0.9950637291014127,\n",
              " 1.0011376913598358,\n",
              " 0.9964717484881999,\n",
              " 1.0060008443550559,\n",
              " 0.999308738505558,\n",
              " 1.0056634595362561,\n",
              " 0.9956525179255034,\n",
              " 1.0114628225010522,\n",
              " 0.9986416026823146,\n",
              " 1.0018781720214311,\n",
              " 1.0081413712476865,\n",
              " 1.0011839263586155,\n",
              " 1.000406249088323,\n",
              " 1.0029319963413417,\n",
              " 1.0017930997755522,\n",
              " 1.0007061006458697,\n",
              " 0.9983665534178823,\n",
              " 0.9991756312588543,\n",
              " 1.0008959233709274,\n",
              " 1.0004665262865429,\n",
              " 1.0071929489169882,\n",
              " 1.003738024296513,\n",
              " 0.9953323000592772,\n",
              " 1.0096786343622561,\n",
              " 0.9967354436566754,\n",
              " 0.994577355091288,\n",
              " 0.9952061103298225,\n",
              " 1.0094415629121927,\n",
              " 0.9950285127252965,\n",
              " 1.002111314486613,\n",
              " 0.9998829505618572,\n",
              " 0.9958664748261279,\n",
              " 0.9967512263267022,\n",
              " 1.003893102813793]"
            ]
          },
          "metadata": {
            "tags": []
          },
          "execution_count": 67
        }
      ]
    },
    {
      "cell_type": "code",
      "metadata": {
        "colab": {
          "base_uri": "https://localhost:8080/",
          "height": 282
        },
        "id": "I1XKUP7nKuR1",
        "outputId": "f19d8a14-0089-40b6-abf6-feffda35369b"
      },
      "source": [
        "plt.plot(J)"
      ],
      "execution_count": null,
      "outputs": [
        {
          "output_type": "execute_result",
          "data": {
            "text/plain": [
              "[<matplotlib.lines.Line2D at 0x7ff00d8a9290>]"
            ]
          },
          "metadata": {
            "tags": []
          },
          "execution_count": 23
        },
        {
          "output_type": "display_data",
          "data": {
            "image/png": "[encoded data removed]",
            "text/plain": [
              "<Figure size 432x288 with 1 Axes>"
            ]
          },
          "metadata": {
            "tags": [],
            "needs_background": "light"
          }
        }
      ]
    },
    {
      "cell_type": "code",
      "metadata": {
        "colab": {
          "base_uri": "https://localhost:8080/"
        },
        "id": "mcN37LvCKzys",
        "outputId": "dfbf750f-c2d2-4c4f-896e-6f3f1d328a28"
      },
      "source": [
        " np.random.normal(1.0, 0.005, 5)\n",
        "\n"
      ],
      "execution_count": 56,
      "outputs": [
        {
          "output_type": "execute_result",
          "data": {
            "text/plain": [
              "array([0.99594549, 0.99876217, 1.00047716, 1.00270394, 0.99801644])"
            ]
          },
          "metadata": {
            "tags": []
          },
          "execution_count": 56
        }
      ]
    },
    {
      "cell_type": "code",
      "metadata": {
        "id": "hh0dayagtcdg",
        "outputId": "92618dcd-c2b9-4cbf-e429-b152d003266d",
        "colab": {
          "base_uri": "https://localhost:8080/"
        }
      },
      "source": [
        "for i in range(0,100):\n",
        "  L = []\n",
        "  L.append(np.random.normal(1.0, 0.005, 5))\n",
        "  print(L)"
      ],
      "execution_count": 65,
      "outputs": [
        {
          "output_type": "stream",
          "text": [
            "[array([0.99548191, 1.00115785, 0.99868858, 1.00240701, 1.00241659])]\n",
            "[array([1.00385887, 0.99538367, 1.0112527 , 0.99992268, 0.99593066])]\n",
            "[array([1.00430219, 0.9926422 , 1.00280605, 0.99808826, 0.99892306])]\n",
            "[array([0.99570451, 0.99477563, 0.99790846, 0.99693519, 0.99571661])]\n",
            "[array([1.00225581, 1.00092773, 0.99865055, 1.00489644, 0.99786184])]\n",
            "[array([0.99373344, 1.00608031, 0.99006054, 0.99751229, 0.99262772])]\n",
            "[array([1.00223454, 1.00237667, 0.99647796, 1.00331751, 1.00008838])]\n",
            "[array([1.00273456, 0.999105  , 0.99977824, 1.00233214, 1.00159022])]\n",
            "[array([1.00738065, 1.00188646, 0.9982749 , 1.01187732, 1.01015226])]\n",
            "[array([0.99061482, 1.00228345, 1.00405019, 0.99679458, 0.99631785])]\n",
            "[array([0.99425716, 1.00153193, 0.99989119, 0.998582  , 1.00747647])]\n",
            "[array([1.00075449, 1.00257218, 0.99161275, 0.99785692, 1.00188292])]\n",
            "[array([0.99934961, 0.99786401, 0.99429491, 1.00741892, 0.99426981])]\n",
            "[array([1.00312137, 1.00186375, 1.00055513, 0.9983964 , 1.00052351])]\n",
            "[array([0.99853575, 0.99390452, 1.00580677, 1.00651946, 1.00200516])]\n",
            "[array([0.99214876, 1.0045365 , 1.00411477, 1.00291509, 0.99906054])]\n",
            "[array([0.99540757, 1.00057198, 1.01522315, 0.99909644, 1.00588273])]\n",
            "[array([1.00433846, 1.00361289, 1.01132191, 0.99295447, 1.00381997])]\n",
            "[array([0.99960051, 1.00105704, 0.9963538 , 0.98937681, 0.9996218 ])]\n",
            "[array([0.99102127, 0.99905606, 1.00750412, 0.99257647, 0.998542  ])]\n",
            "[array([1.00426296, 1.00778459, 1.000804  , 1.00459638, 0.99337309])]\n",
            "[array([0.9995488 , 1.00629949, 1.00596258, 0.99456075, 0.99528705])]\n",
            "[array([0.99572741, 1.00316482, 1.00073079, 0.99682094, 1.00485141])]\n",
            "[array([0.99175984, 0.99630578, 0.99725201, 1.00197022, 1.00038225])]\n",
            "[array([1.00144244, 1.00076933, 0.99595545, 1.00162911, 0.99523558])]\n",
            "[array([1.00054863, 1.00940644, 1.00258703, 0.9953502 , 0.99571581])]\n",
            "[array([0.99850562, 0.99677897, 0.99651117, 0.99939499, 1.01279452])]\n",
            "[array([0.9980702 , 1.00019478, 0.99888152, 0.99708743, 0.99905312])]\n",
            "[array([0.99945685, 1.00016496, 1.00386321, 0.99352942, 0.99662001])]\n",
            "[array([0.98955317, 0.99931335, 0.99253569, 1.00139358, 1.00330385])]\n",
            "[array([1.0027301 , 1.00634012, 0.99508399, 1.00534501, 0.99882658])]\n",
            "[array([1.00790841, 0.99713839, 1.00089491, 0.99427491, 1.00366718])]\n",
            "[array([0.98520996, 1.00180196, 1.00442206, 0.99690055, 1.00631423])]\n",
            "[array([0.99663047, 1.00167779, 1.00551383, 1.00573082, 1.01126117])]\n",
            "[array([0.99971169, 0.99741318, 1.00254074, 0.99070152, 0.99524225])]\n",
            "[array([0.99649895, 0.99988078, 1.00949102, 0.9983551 , 1.0037162 ])]\n",
            "[array([1.00006795, 1.00291584, 1.00334335, 0.99737583, 1.00753701])]\n",
            "[array([0.99953604, 1.000891  , 1.00216128, 1.00297675, 1.01049893])]\n",
            "[array([1.00778507, 0.99719135, 0.99930419, 0.99962556, 1.00042216])]\n",
            "[array([1.00640783, 1.00163615, 1.00332726, 0.9931463 , 0.99471414])]\n",
            "[array([1.00383248, 0.99712226, 1.00030055, 1.00217288, 1.00590087])]\n",
            "[array([1.00106435, 0.99062525, 0.9976372 , 1.00338939, 1.00339922])]\n",
            "[array([0.99144204, 0.98635469, 1.00788084, 0.99605148, 1.00054063])]\n",
            "[array([0.99457407, 0.99858634, 0.99819721, 0.99517989, 0.99986765])]\n",
            "[array([0.99544276, 1.0008596 , 0.99785727, 0.99667571, 0.99676792])]\n",
            "[array([1.00151671, 0.99908632, 1.00184972, 1.00371736, 1.00662377])]\n",
            "[array([0.99750959, 1.00049276, 1.00645156, 1.0023605 , 1.00281825])]\n",
            "[array([1.00229021, 0.99971639, 1.00055916, 0.99726735, 1.00236314])]\n",
            "[array([1.00488572, 1.00231399, 0.99430022, 1.00375954, 0.9979075 ])]\n",
            "[array([0.99760559, 0.99796414, 1.00326739, 1.00932705, 0.9988516 ])]\n",
            "[array([1.00275219, 1.00066645, 0.99739428, 0.99679972, 0.98923352])]\n",
            "[array([1.00064606, 0.99404039, 1.00170071, 0.99802095, 0.99447041])]\n",
            "[array([1.00020705, 0.99665994, 0.99623396, 1.00066293, 0.99204708])]\n",
            "[array([1.00038927, 1.00108025, 0.99417505, 0.99323141, 0.99409074])]\n",
            "[array([1.00018126, 0.98849361, 1.00423958, 0.99737751, 1.00106398])]\n",
            "[array([1.00059016, 0.99470497, 1.00081364, 0.99569737, 0.99683948])]\n",
            "[array([1.00384769, 0.99937571, 0.99818315, 0.99349428, 0.99880369])]\n",
            "[array([1.00026758, 1.0044997 , 1.00055604, 1.00544421, 0.99532602])]\n",
            "[array([1.002986  , 1.00333014, 0.99246998, 0.99279101, 1.00185066])]\n",
            "[array([1.00513189, 0.99915981, 1.00103759, 0.99801736, 0.99496278])]\n",
            "[array([1.00320685, 1.00386118, 0.99775513, 0.99932508, 1.00080176])]\n",
            "[array([0.99350574, 1.01104077, 0.99579579, 0.9953751 , 0.99925396])]\n",
            "[array([1.00500592, 0.99864444, 1.00138333, 0.99809925, 0.99989495])]\n",
            "[array([1.00049054, 0.9975029 , 1.0055318 , 0.99926154, 0.99681225])]\n",
            "[array([1.00503163, 1.00510785, 1.00104479, 0.99890487, 1.00760327])]\n",
            "[array([1.00844086, 0.99885452, 0.99197478, 1.00258225, 1.00515129])]\n",
            "[array([1.00242045, 0.99659556, 0.99346511, 0.99628109, 1.00573785])]\n",
            "[array([1.01302583, 0.9911493 , 1.00996087, 1.00796582, 1.00150788])]\n",
            "[array([0.99491324, 0.99892054, 1.00532568, 0.99850418, 1.00517889])]\n",
            "[array([0.99580734, 0.99288197, 1.00473017, 1.00244062, 0.99891907])]\n",
            "[array([1.00229592, 0.9958475 , 0.9995708 , 1.0007025 , 0.99616075])]\n",
            "[array([0.99408609, 1.0060252 , 0.99356203, 0.99526409, 0.99867259])]\n",
            "[array([1.00186543, 1.00856353, 0.99525346, 0.99374979, 1.00300226])]\n",
            "[array([0.99852071, 0.99735622, 1.00702792, 0.99625323, 1.00420213])]\n",
            "[array([1.00074443, 0.99821278, 0.99951322, 1.00235556, 1.00483303])]\n",
            "[array([0.99902921, 1.00090158, 0.99910094, 0.99685832, 1.00120341])]\n",
            "[array([0.99513474, 0.9968168 , 0.99908059, 0.99664038, 1.00311839])]\n",
            "[array([1.00438666, 1.00400262, 0.99974237, 1.00697802, 1.00706273])]\n",
            "[array([0.99387205, 1.0073117 , 1.00970953, 1.00780673, 0.99919488])]\n",
            "[array([0.99948563, 1.0004417 , 1.00386459, 0.99492802, 1.0002057 ])]\n",
            "[array([1.00256854, 1.00875945, 0.99807308, 1.00027884, 1.00007893])]\n",
            "[array([1.0015841 , 1.00135851, 1.00278918, 1.00125615, 0.99533022])]\n",
            "[array([0.99712431, 1.00140612, 1.00326138, 0.9921117 , 1.0057701 ])]\n",
            "[array([0.99479929, 0.99624302, 0.99367124, 0.99824285, 1.00651868])]\n",
            "[array([1.00451048, 0.99053358, 0.99276736, 1.00316027, 0.99354739])]\n",
            "[array([1.00116215, 1.00128656, 0.99952339, 1.01002091, 1.00975051])]\n",
            "[array([0.9991183 , 1.00841808, 1.00991584, 1.00177877, 0.99729812])]\n",
            "[array([1.01057848, 1.0004884 , 1.00893157, 0.9985259 , 1.0037039 ])]\n",
            "[array([1.00228823, 1.00566664, 0.99725608, 0.9967055 , 0.9956448 ])]\n",
            "[array([0.99946354, 1.01093863, 1.00679156, 0.99388407, 0.99424592])]\n",
            "[array([0.98708964, 0.99093551, 1.00555022, 1.00576672, 1.00290457])]\n",
            "[array([0.99568314, 1.00338801, 0.99537708, 0.99270595, 0.9945717 ])]\n",
            "[array([1.00445516, 1.00363753, 1.00413872, 1.00644024, 0.99583151])]\n",
            "[array([1.00829463, 1.00111198, 0.99954056, 1.00101412, 0.98598907])]\n",
            "[array([0.99973895, 1.00081396, 0.99831286, 0.99234356, 0.99360819])]\n",
            "[array([0.99889129, 0.99256053, 0.99881426, 1.00524863, 0.99821796])]\n",
            "[array([1.00320872, 1.00077268, 1.00232987, 1.00751133, 1.00078362])]\n",
            "[array([1.00520961, 1.00727725, 0.99729788, 1.00184619, 0.99472859])]\n",
            "[array([0.98521927, 1.00036143, 1.00229956, 0.99986453, 1.00337346])]\n",
            "[array([0.99330551, 0.99633827, 1.00389404, 0.98768662, 1.00639622])]\n"
          ],
          "name": "stdout"
        }
      ]
    },
    {
      "cell_type": "code",
      "metadata": {
        "id": "z-5UDD-ytuMX",
        "outputId": "b9fe21d3-94ec-4a38-eb77-dd3026ca4c39",
        "colab": {
          "base_uri": "https://localhost:8080/"
        }
      },
      "source": [
        "L"
      ],
      "execution_count": 60,
      "outputs": [
        {
          "output_type": "execute_result",
          "data": {
            "text/plain": [
              "[array([1.00191929, 0.9995069 , 1.01070586, 1.00307031, 0.99445177])]"
            ]
          },
          "metadata": {
            "tags": []
          },
          "execution_count": 60
        }
      ]
    },
    {
      "cell_type": "code",
      "metadata": {
        "id": "aovRNgKPQ2HX"
      },
      "source": [
        "# creating a 1-D list (Horizontal)\n",
        "list1 = [5, 6, 9]\n",
        " \n",
        "# creating a 1-D list (Horizontal)\n",
        "list2 = [1, 2, 3]\n",
        " \n",
        "# creating first vector\n",
        "vector1 = np.array(list1)"
      ],
      "execution_count": 51,
      "outputs": []
    },
    {
      "cell_type": "code",
      "metadata": {
        "colab": {
          "base_uri": "https://localhost:8080/"
        },
        "id": "1eRY1BZztEOi",
        "outputId": "d02e6f11-38a1-4eef-b805-df8cbd31c3ca"
      },
      "source": [
        "vector1"
      ],
      "execution_count": 52,
      "outputs": [
        {
          "output_type": "execute_result",
          "data": {
            "text/plain": [
              "array([5, 6, 9])"
            ]
          },
          "metadata": {
            "tags": []
          },
          "execution_count": 52
        }
      ]
    },
    {
      "cell_type": "code",
      "metadata": {
        "id": "uh_dEn8RtG31"
      },
      "source": [
        ""
      ],
      "execution_count": null,
      "outputs": []
    }
  ]
}